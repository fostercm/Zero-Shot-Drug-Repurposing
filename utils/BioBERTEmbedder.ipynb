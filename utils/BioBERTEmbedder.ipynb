{
 "cells": [
  {
   "cell_type": "code",
   "execution_count": 23,
   "metadata": {},
   "outputs": [],
   "source": [
    "from transformers import AutoTokenizer, AutoModel\n",
    "import pandas as pd\n",
    "import torch\n",
    "from torch.utils.data import DataLoader, TensorDataset\n",
    "\n",
    "tokenizer = AutoTokenizer.from_pretrained(\"dmis-lab/biobert-v1.1\")\n",
    "model = AutoModel.from_pretrained(\"dmis-lab/biobert-v1.1\")\n",
    "data = pd.read_csv(\"/opt/scratch/labs/wuc/Drug-Repurposing/data/disease_features.csv\")"
   ]
  },
  {
   "cell_type": "code",
   "execution_count": 34,
   "metadata": {},
   "outputs": [],
   "source": [
    "data.fillna(\"\", inplace=True)\n",
    "\n",
    "# Change the columns depending on the data\n",
    "data[\"agg\"] = data[['mondo_name', 'group_id_bert',\n",
    "       'group_name_bert', 'mondo_definition', 'umls_description',\n",
    "       'orphanet_definition', 'orphanet_prevalence', 'orphanet_epidemiology',\n",
    "       'orphanet_clinical_description', 'orphanet_management_and_treatment',\n",
    "       'mayo_symptoms', 'mayo_causes', 'mayo_risk_factors',\n",
    "       'mayo_complications', 'mayo_prevention', 'mayo_see_doc']].agg(' '.join, axis=1)"
   ]
  },
  {
   "cell_type": "code",
   "execution_count": 37,
   "metadata": {},
   "outputs": [],
   "source": [
    "# Tokenize each sentence in the 'text' column\n",
    "tokenized_data = data['agg'].apply(lambda x: tokenizer(x, padding='max_length', truncation=True, max_length=512, return_tensors='pt'))\n",
    "\n",
    "# Extract input_ids and attention_mask as lists of tensors\n",
    "input_ids = [item['input_ids'].squeeze(0) for item in tokenized_data]\n",
    "attention_mask = [item['attention_mask'].squeeze(0) for item in tokenized_data]\n",
    "\n",
    "# Stack the lists of tensors into single tensors for input to the model\n",
    "input_ids = torch.stack(input_ids)\n",
    "attention_mask = torch.stack(attention_mask)"
   ]
  },
  {
   "cell_type": "code",
   "execution_count": 38,
   "metadata": {},
   "outputs": [],
   "source": [
    "# Ensure inputs are on the same device as the model\n",
    "device = torch.device('cuda:0' if torch.cuda.is_available() else 'cpu')\n",
    "model = model.to(device)\n",
    "\n",
    "# Create a TensorDataset and DataLoader\n",
    "batch_size = 128  # Adjust batch size based on memory capacity\n",
    "dataset = TensorDataset(input_ids, attention_mask)\n",
    "dataloader = DataLoader(dataset, batch_size=batch_size)\n",
    "\n",
    "# Initialize list to store embeddings\n",
    "sentence_embeddings = []\n",
    "\n",
    "# Process each batch separately to save memory\n",
    "with torch.no_grad():\n",
    "    for batch in dataloader:\n",
    "        batch_input_ids, batch_attention_mask = [b.to(device) for b in batch]\n",
    "        outputs = model(input_ids=batch_input_ids, attention_mask=batch_attention_mask)\n",
    "        \n",
    "        # Get pooled output for each sentence in the batch\n",
    "        batch_embeddings = outputs.pooler_output\n",
    "        sentence_embeddings.append(batch_embeddings.cpu())\n",
    "\n",
    "# Concatenate all embeddings back into a single tensor\n",
    "sentence_embeddings = torch.cat(sentence_embeddings)"
   ]
  },
  {
   "cell_type": "code",
   "execution_count": 39,
   "metadata": {},
   "outputs": [
    {
     "data": {
      "text/plain": [
       "torch.Size([17080, 768])"
      ]
     },
     "execution_count": 39,
     "metadata": {},
     "output_type": "execute_result"
    }
   ],
   "source": [
    "sentence_embeddings.shape"
   ]
  },
  {
   "cell_type": "code",
   "execution_count": 40,
   "metadata": {},
   "outputs": [],
   "source": [
    "torch.save(sentence_embeddings, \"/opt/scratch/labs/wuc/Drug-Repurposing/data/disease_embeddings.pt\")"
   ]
  }
 ],
 "metadata": {
  "kernelspec": {
   "display_name": ".venv",
   "language": "python",
   "name": "python3"
  },
  "language_info": {
   "codemirror_mode": {
    "name": "ipython",
    "version": 3
   },
   "file_extension": ".py",
   "mimetype": "text/x-python",
   "name": "python",
   "nbconvert_exporter": "python",
   "pygments_lexer": "ipython3",
   "version": "3.8.10"
  }
 },
 "nbformat": 4,
 "nbformat_minor": 2
}
